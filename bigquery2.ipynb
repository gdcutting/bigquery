{
  "nbformat": 4,
  "nbformat_minor": 0,
  "metadata": {
    "colab": {
      "name": "Google BigQuery: Getting Started",
      "provenance": []
    },
    "kernelspec": {
      "name": "python3",
      "display_name": "Python 3"
    }
  },
  "cells": [
    {
      "cell_type": "markdown",
      "metadata": {
        "id": "D_GM32ddfADA",
        "colab_type": "text"
      },
      "source": [
        "# Getting started with the BigQuery API\n",
        "\n",
        "We want to start exploring the Google BiqQuery [public datasets](https://cloud.google.com/bigquery/public-data/). Let's start by walking through the required setup steps, and then we can load and explore some data.\n",
        "\n",
        "## Preliminaries\n",
        "Follow [this quickstart guide](https://cloud.google.com/bigquery/docs/quickstarts/quickstart-client-libraries), which will explain how to:\n",
        "1. Create a [Cloud Platform project](https://console.cloud.google.com/cloud-resource-manager) if you don't have one already.\n",
        "2. [Enable billing](https://support.google.com/cloud/answer/6293499#enable-billing)) for the project\n",
        "3. [Enable the BigQuery API](https://console.cloud.google.com/flows/enableapi?apiid=bigquery)"
      ]
    },
    {
      "cell_type": "markdown",
      "metadata": {
        "id": "134t8CRjhp5G",
        "colab_type": "text"
      },
      "source": [
        "#### Provide credentials to the runtime\n",
        "Now we need to authenticate to gain access to the BigQuery API. When you first run this, you will be given a link to a page with your authentication key, which you will need to paste here."
      ]
    },
    {
      "cell_type": "code",
      "metadata": {
        "id": "Mj3NckdigWMh",
        "colab_type": "code",
        "colab": {}
      },
      "source": [
        "from google.colab import auth\n",
        "auth.authenticate_user()\n",
        "print('Authenticated')"
      ],
      "execution_count": 0,
      "outputs": []
    },
    {
      "cell_type": "markdown",
      "metadata": {
        "id": "f7ny9szTueKQ",
        "colab_type": "text"
      },
      "source": [
        "Now that we're authenticated, we need to load the BigQuery packag, and the google.colab.data_table package that can be used to display large pandas dataframes as an interactive data. Loading data_table is optional, but it will be useful for working with data in pandas."
      ]
    },
    {
      "cell_type": "code",
      "metadata": {
        "id": "HEhBKEmmU6R1",
        "colab_type": "code",
        "outputId": "abd23b2e-2e40-4272-e12f-e4f5ec954d6b",
        "colab": {
          "base_uri": "https://localhost:8080/",
          "height": 86
        }
      },
      "source": [
        "%load_ext google.cloud.bigquery\n",
        "%load_ext google.colab.data_table"
      ],
      "execution_count": 0,
      "outputs": [
        {
          "output_type": "stream",
          "text": [
            "The google.cloud.bigquery extension is already loaded. To reload it, use:\n",
            "  %reload_ext google.cloud.bigquery\n",
            "The google.colab.data_table extension is already loaded. To reload it, use:\n",
            "  %reload_ext google.colab.data_table\n"
          ],
          "name": "stdout"
        }
      ]
    },
    {
      "cell_type": "markdown",
      "metadata": {
        "id": "M1GjI3aGh4vl",
        "colab_type": "text"
      },
      "source": [
        "## Typical API Usage (through google-cloud-bigquery)\n",
        "\n",
        "Now we can create a client, specifying the project name (replace 'bigquery-test-project-256220' with your project name, which you can find in the [GCP console](https://console.cloud.google.com))"
      ]
    },
    {
      "cell_type": "code",
      "metadata": {
        "id": "eLw92jQfVA9u",
        "colab_type": "code",
        "colab": {}
      },
      "source": [
        "project_id = '[bigquery-test-project-256220]'\n",
        "client = bigquery.Client(project_id)"
      ],
      "execution_count": 0,
      "outputs": []
    },
    {
      "cell_type": "markdown",
      "metadata": {
        "id": "CwXh6xqljI35",
        "colab_type": "text"
      },
      "source": [
        "With the client created for our project, now we can set up dataset references for a couple of datasets, Hacker News and [Bitcoin](https://console.cloud.google.com/bigquery?p=bigquery-public-data&d=crypto_bitcoin&page=dataset&project=bigquery-test-project-256220&folder&organizationId) datasets.\n",
        "\n",
        "[See the full list of public datasets](https://console.cloud.google.com/marketplace/browse?filter=solution-type:dataset) if you want to explore others."
      ]
    },
    {
      "cell_type": "code",
      "metadata": {
        "id": "LkxXv-HZeT-j",
        "colab_type": "code",
        "colab": {}
      },
      "source": [
        "hn_dset_ref = client.dataset('hacker_news', project='bigquery-public-data')\n",
        "bc_dset_ref = client.dataset('crypto_bitcoin', project='bigquery-public-data')"
      ],
      "execution_count": 0,
      "outputs": []
    },
    {
      "cell_type": "markdown",
      "metadata": {
        "id": "i38TYTGXmQQK",
        "colab_type": "text"
      },
      "source": [
        "Now that we have data *references*, we can load the actual datasets and confirm the type."
      ]
    },
    {
      "cell_type": "code",
      "metadata": {
        "id": "gaXEQ4Aql7if",
        "colab_type": "code",
        "outputId": "136390d3-1484-44e1-e3fa-3b6369392f74",
        "colab": {
          "base_uri": "https://localhost:8080/",
          "height": 34
        }
      },
      "source": [
        "hn_dset = client.get_dataset(hn_dset_ref)\n",
        "bc_dset = client.get_dataset(bc_dset_ref)\n",
        "type(bc_dset)"
      ],
      "execution_count": 0,
      "outputs": [
        {
          "output_type": "execute_result",
          "data": {
            "text/plain": [
              "google.cloud.bigquery.dataset.Dataset"
            ]
          },
          "metadata": {
            "tags": []
          },
          "execution_count": 24
        }
      ]
    },
    {
      "cell_type": "markdown",
      "metadata": {
        "id": "uekb2YpHnCjY",
        "colab_type": "text"
      },
      "source": [
        "Use client.list_tables, along with [list comprenehsion](https://www.python.org/dev/peps/pep-0202/), to get table information for both datasets:"
      ]
    },
    {
      "cell_type": "code",
      "metadata": {
        "id": "4Qo0L-2hmucI",
        "colab_type": "code",
        "outputId": "538662ca-1dbe-4b9f-e0b0-4259ee6236a8",
        "colab": {
          "base_uri": "https://localhost:8080/",
          "height": 52
        }
      },
      "source": [
        "print([t.table_id for t in client.list_tables(hn_dset)])\n",
        "print([t.table_id for t in client.list_tables(bc_dset)])"
      ],
      "execution_count": 0,
      "outputs": [
        {
          "output_type": "stream",
          "text": [
            "['comments', 'full', 'full_201510', 'stories']\n",
            "['blocks', 'inputs', 'outputs', 'transactions']\n"
          ],
          "name": "stdout"
        }
      ]
    },
    {
      "cell_type": "markdown",
      "metadata": {
        "id": "b2VLchXPn7tX",
        "colab_type": "text"
      },
      "source": [
        "Let's take a closer look at the 'blocks' table in the bitcoin dataset:"
      ]
    },
    {
      "cell_type": "code",
      "metadata": {
        "id": "y64prTCNoEug",
        "colab_type": "code",
        "outputId": "af30bc6c-f443-4112-96f6-567830f1e283",
        "colab": {
          "base_uri": "https://localhost:8080/",
          "height": 573
        }
      },
      "source": [
        "bc_blocks = client.get_table(bc_dset.table('blocks'))\n",
        "[command for command in dir(bc_blocks) if not command.startswith('_')]"
      ],
      "execution_count": 0,
      "outputs": [
        {
          "output_type": "execute_result",
          "data": {
            "text/plain": [
              "['clustering_fields',\n",
              " 'created',\n",
              " 'dataset_id',\n",
              " 'description',\n",
              " 'encryption_configuration',\n",
              " 'etag',\n",
              " 'expires',\n",
              " 'external_data_configuration',\n",
              " 'friendly_name',\n",
              " 'from_api_repr',\n",
              " 'from_string',\n",
              " 'full_table_id',\n",
              " 'labels',\n",
              " 'location',\n",
              " 'modified',\n",
              " 'num_bytes',\n",
              " 'num_rows',\n",
              " 'partition_expiration',\n",
              " 'partitioning_type',\n",
              " 'path',\n",
              " 'project',\n",
              " 'reference',\n",
              " 'schema',\n",
              " 'self_link',\n",
              " 'streaming_buffer',\n",
              " 'table_id',\n",
              " 'table_type',\n",
              " 'time_partitioning',\n",
              " 'to_api_repr',\n",
              " 'to_bqstorage',\n",
              " 'view_query',\n",
              " 'view_use_legacy_sql']"
            ]
          },
          "metadata": {
            "tags": []
          },
          "execution_count": 29
        }
      ]
    },
    {
      "cell_type": "markdown",
      "metadata": {
        "id": "_uaf94u4ow8o",
        "colab_type": "text"
      },
      "source": [
        "Let's examine the schema to get more information:"
      ]
    },
    {
      "cell_type": "code",
      "metadata": {
        "id": "jvydrkb2o0Ax",
        "colab_type": "code",
        "outputId": "a85985c6-108a-4ec4-d992-b7cbb22a1b58",
        "colab": {
          "base_uri": "https://localhost:8080/",
          "height": 243
        }
      },
      "source": [
        "bc_blocks.schema"
      ],
      "execution_count": 0,
      "outputs": [
        {
          "output_type": "execute_result",
          "data": {
            "text/plain": [
              "[SchemaField('hash', 'STRING', 'REQUIRED', 'Hash of this block', ()),\n",
              " SchemaField('size', 'INTEGER', 'NULLABLE', 'The size of block data in bytes', ()),\n",
              " SchemaField('stripped_size', 'INTEGER', 'NULLABLE', 'The size of block data in bytes excluding witness data', ()),\n",
              " SchemaField('weight', 'INTEGER', 'NULLABLE', 'Three times the base size plus the total size. https://github.com/bitcoin/bips/blob/master/bip-0141.mediawiki', ()),\n",
              " SchemaField('number', 'INTEGER', 'REQUIRED', 'The number of the block', ()),\n",
              " SchemaField('version', 'INTEGER', 'NULLABLE', 'Protocol version specified in block header', ()),\n",
              " SchemaField('merkle_root', 'STRING', 'NULLABLE', 'The root node of a Merkle tree, where leaves are transaction hashes', ()),\n",
              " SchemaField('timestamp', 'TIMESTAMP', 'REQUIRED', 'Block creation timestamp specified in block header', ()),\n",
              " SchemaField('timestamp_month', 'DATE', 'REQUIRED', 'Month of the block creation timestamp specified in block header', ()),\n",
              " SchemaField('nonce', 'STRING', 'NULLABLE', 'Difficulty solution specified in block header', ()),\n",
              " SchemaField('bits', 'STRING', 'NULLABLE', 'Difficulty threshold specified in block header', ()),\n",
              " SchemaField('coinbase_param', 'STRING', 'NULLABLE', 'Data specified in the coinbase transaction of this block', ()),\n",
              " SchemaField('transaction_count', 'INTEGER', 'NULLABLE', 'Number of transactions included in this block', ())]"
            ]
          },
          "metadata": {
            "tags": []
          },
          "execution_count": 31
        }
      ]
    },
    {
      "cell_type": "markdown",
      "metadata": {
        "id": "HkT5pF08o9DJ",
        "colab_type": "text"
      },
      "source": [
        "The table scheme gives us column names, types, parameters, descriptions, and (for the weight, a link to a GitHub repo).\n",
        "\n",
        "The schema is a necessary input for one of the more common and useful [BigQuery commands](https://googleapis.dev/python/bigquery/latest/reference.html): `list_rows()`, which returns a slice of the dataset without scanning any other section of the table. For that reason, it is often preferable to using a `limit` clause in your query.\n",
        "\n",
        "We want to select a subset of the columns, but the `selected_fields` parameter requires a schema object as an input, so we need to build a subset of the schema first to pass for that parameter."
      ]
    },
    {
      "cell_type": "code",
      "metadata": {
        "id": "f6wo6ZYYpQdH",
        "colab_type": "code",
        "colab": {}
      },
      "source": [
        "schema_subset = [col for col in bc_blocks.schema if col.name in ('number', 'timestamp', 'hash')]\n",
        "results = [x for x in client.list_rows(bc_blocks, start_index=100, selected_fields=schema_subset, max_results=10)]"
      ],
      "execution_count": 0,
      "outputs": []
    },
    {
      "cell_type": "markdown",
      "metadata": {
        "id": "zuniN7Kfp8lI",
        "colab_type": "text"
      },
      "source": [
        "Let's take a look at the results, first in raw format (not very easy to look at), then in dictionary form (much neater):"
      ]
    },
    {
      "cell_type": "code",
      "metadata": {
        "id": "TlK3ER8npww4",
        "colab_type": "code",
        "outputId": "6f5c3a50-5457-4b05-cf89-dbfdad1fcd4c",
        "colab": {
          "base_uri": "https://localhost:8080/",
          "height": 228
        }
      },
      "source": [
        "print(results)\n",
        "for i in results:\n",
        "    print(dict(i))"
      ],
      "execution_count": 0,
      "outputs": [
        {
          "output_type": "stream",
          "text": [
            "[Row(('000000000000000000824a2cbabfd94ded8a80c4179a9e662eebb205a6d22663', 487527, datetime.datetime(2017, 9, 29, 14, 25, 30, tzinfo=<UTC>)), {'hash': 0, 'number': 1, 'timestamp': 2}), Row(('0000000000000000000030b69821159aeabd59ce42f32d3c0b10dfa3fab984f1', 487001, datetime.datetime(2017, 9, 26, 5, 55, 18, tzinfo=<UTC>)), {'hash': 0, 'number': 1, 'timestamp': 2}), Row(('000000000000000000f6f0d7f30bb0c820b20c0a238d6b13747fb34b1ffda97d', 487132, datetime.datetime(2017, 9, 27, 2, 47, 7, tzinfo=<UTC>)), {'hash': 0, 'number': 1, 'timestamp': 2}), Row(('000000000000000000d0eaefb69506912073c17d0388727bd3c1463ecd2ad2a2', 486707, datetime.datetime(2017, 9, 24, 0, 58, 8, tzinfo=<UTC>)), {'hash': 0, 'number': 1, 'timestamp': 2}), Row(('0000000000000000007908cf4cab8d18b29bd5aa2b292a414f6c10675f9984eb', 487282, datetime.datetime(2017, 9, 28, 3, 58, 8, tzinfo=<UTC>)), {'hash': 0, 'number': 1, 'timestamp': 2}), Row(('000000000000000000e330bef17e39727e0ead7bce9b82f57b871be23add429e', 487003, datetime.datetime(2017, 9, 26, 6, 17, 5, tzinfo=<UTC>)), {'hash': 0, 'number': 1, 'timestamp': 2}), Row(('0000000000000000008820077a37573e5a3c0d6a8315513e4cccd59462771228', 485973, datetime.datetime(2017, 9, 19, 3, 12, 9, tzinfo=<UTC>)), {'hash': 0, 'number': 1, 'timestamp': 2}), Row(('00000000000000000000133426bc20b82bb1827108a626db6bde3c45adf93824', 486014, datetime.datetime(2017, 9, 19, 11, 19, 41, tzinfo=<UTC>)), {'hash': 0, 'number': 1, 'timestamp': 2}), Row(('00000000000000000073100b1b3cb9ed537c43666a39e388f86e4484e7c14e30', 486192, datetime.datetime(2017, 9, 20, 20, 1, 14, tzinfo=<UTC>)), {'hash': 0, 'number': 1, 'timestamp': 2}), Row(('0000000000000000000f9bc1d8095de15900a39db25b8323c71985778626a1e8', 487118, datetime.datetime(2017, 9, 27, 1, 15, 14, tzinfo=<UTC>)), {'hash': 0, 'number': 1, 'timestamp': 2})]\n",
            "{'hash': '000000000000000000824a2cbabfd94ded8a80c4179a9e662eebb205a6d22663', 'number': 487527, 'timestamp': datetime.datetime(2017, 9, 29, 14, 25, 30, tzinfo=<UTC>)}\n",
            "{'hash': '0000000000000000000030b69821159aeabd59ce42f32d3c0b10dfa3fab984f1', 'number': 487001, 'timestamp': datetime.datetime(2017, 9, 26, 5, 55, 18, tzinfo=<UTC>)}\n",
            "{'hash': '000000000000000000f6f0d7f30bb0c820b20c0a238d6b13747fb34b1ffda97d', 'number': 487132, 'timestamp': datetime.datetime(2017, 9, 27, 2, 47, 7, tzinfo=<UTC>)}\n",
            "{'hash': '000000000000000000d0eaefb69506912073c17d0388727bd3c1463ecd2ad2a2', 'number': 486707, 'timestamp': datetime.datetime(2017, 9, 24, 0, 58, 8, tzinfo=<UTC>)}\n",
            "{'hash': '0000000000000000007908cf4cab8d18b29bd5aa2b292a414f6c10675f9984eb', 'number': 487282, 'timestamp': datetime.datetime(2017, 9, 28, 3, 58, 8, tzinfo=<UTC>)}\n",
            "{'hash': '000000000000000000e330bef17e39727e0ead7bce9b82f57b871be23add429e', 'number': 487003, 'timestamp': datetime.datetime(2017, 9, 26, 6, 17, 5, tzinfo=<UTC>)}\n",
            "{'hash': '0000000000000000008820077a37573e5a3c0d6a8315513e4cccd59462771228', 'number': 485973, 'timestamp': datetime.datetime(2017, 9, 19, 3, 12, 9, tzinfo=<UTC>)}\n",
            "{'hash': '00000000000000000000133426bc20b82bb1827108a626db6bde3c45adf93824', 'number': 486014, 'timestamp': datetime.datetime(2017, 9, 19, 11, 19, 41, tzinfo=<UTC>)}\n",
            "{'hash': '00000000000000000073100b1b3cb9ed537c43666a39e388f86e4484e7c14e30', 'number': 486192, 'timestamp': datetime.datetime(2017, 9, 20, 20, 1, 14, tzinfo=<UTC>)}\n",
            "{'hash': '0000000000000000000f9bc1d8095de15900a39db25b8323c71985778626a1e8', 'number': 487118, 'timestamp': datetime.datetime(2017, 9, 27, 1, 15, 14, tzinfo=<UTC>)}\n"
          ],
          "name": "stdout"
        }
      ]
    },
    {
      "cell_type": "markdown",
      "metadata": {
        "id": "Pt-s6EJErsHX",
        "colab_type": "text"
      },
      "source": [
        "What if we had performed a full table scan, instead of using `list_rows`? How many resources would have been consumed? Let's find out:"
      ]
    },
    {
      "cell_type": "code",
      "metadata": {
        "id": "A4QoB9tLr6Ik",
        "colab_type": "code",
        "outputId": "660eb18c-ca4a-4b4b-eee2-1fba4820a4d3",
        "colab": {
          "base_uri": "https://localhost:8080/",
          "height": 34
        }
      },
      "source": [
        "BYTES_PER_GB = 2**30\n",
        "bc_blocks.num_bytes / BYTES_PER_GB"
      ],
      "execution_count": 0,
      "outputs": [
        {
          "output_type": "execute_result",
          "data": {
            "text/plain": [
              "0.17615782376378775"
            ]
          },
          "metadata": {
            "tags": []
          },
          "execution_count": 35
        }
      ]
    },
    {
      "cell_type": "markdown",
      "metadata": {
        "id": "BIOTFS_Vvpn1",
        "colab_type": "text"
      },
      "source": [
        "### Using BiqQuery via magics\n",
        "\n",
        "There's another, shorthand way to access data (replace 'bigquery-test-project-256220' with your project ID):"
      ]
    },
    {
      "cell_type": "code",
      "metadata": {
        "id": "hojXyDOOvysF",
        "colab_type": "code",
        "outputId": "b8de677d-04f6-4948-b374-b3a3367cb5b4",
        "colab": {
          "base_uri": "https://localhost:8080/",
          "height": 124
        }
      },
      "source": [
        "%%bigquery --project bigquery-test-project-256220\n",
        "SELECT \n",
        "  COUNT(*) as total_rows\n",
        "FROM `bigquery-public-data.crypto_bitcoin.blocks`"
      ],
      "execution_count": 0,
      "outputs": [
        {
          "output_type": "execute_result",
          "data": {
            "application/vnd.google.colaboratory.module+javascript": "\n      import \"https://ssl.gstatic.com/colaboratory/data_table/9e554b27bdd509f3/data_table.js\";\n\n      window.createDataTable({\n        data: [[{\n            'v': 0,\n            'f': \"0\",\n        },\n{\n            'v': 599825,\n            'f': \"599825\",\n        }]],\n        columns: [[\"number\", \"index\"], [\"number\", \"total_rows\"]],\n        columnOptions: [{\"width\": \"1px\", \"className\": \"index_column\"}],\n        rowsPerPage: 25,\n        helpUrl: \"https://colab.research.google.com/notebooks/data_table.ipynb\",\n      });\n    ",
            "text/html": [
              "<div>\n",
              "<style scoped>\n",
              "    .dataframe tbody tr th:only-of-type {\n",
              "        vertical-align: middle;\n",
              "    }\n",
              "\n",
              "    .dataframe tbody tr th {\n",
              "        vertical-align: top;\n",
              "    }\n",
              "\n",
              "    .dataframe thead th {\n",
              "        text-align: right;\n",
              "    }\n",
              "</style>\n",
              "<table border=\"1\" class=\"dataframe\">\n",
              "  <thead>\n",
              "    <tr style=\"text-align: right;\">\n",
              "      <th></th>\n",
              "      <th>total_rows</th>\n",
              "    </tr>\n",
              "  </thead>\n",
              "  <tbody>\n",
              "    <tr>\n",
              "      <th>0</th>\n",
              "      <td>599825</td>\n",
              "    </tr>\n",
              "  </tbody>\n",
              "</table>\n",
              "</div>"
            ],
            "text/plain": [
              "   total_rows\n",
              "0      599825"
            ]
          },
          "metadata": {
            "tags": []
          },
          "execution_count": 40
        }
      ]
    },
    {
      "cell_type": "markdown",
      "metadata": {
        "id": "K9FVvRyBxEZW",
        "colab_type": "text"
      },
      "source": [
        "## Summary\n",
        "\n",
        "We've gotten a good start to working with accessing BigQuery data. This notebook introduces setup, an overview of available dataset, a couple of different ways to access the API, and exploration of the dataset structure using bitcoin data as an example.\n",
        "\n",
        "In the next installment, we'll get more into the details of API usage and using SQL to create more useful queries."
      ]
    }
  ]
}
